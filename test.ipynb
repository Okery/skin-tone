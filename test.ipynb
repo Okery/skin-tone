{
 "cells": [
  {
   "cell_type": "code",
   "execution_count": null,
   "metadata": {},
   "outputs": [],
   "source": [
    "from PIL import Image\n",
    "\n",
    "import torch\n",
    "import matplotlib.pyplot as plt\n",
    "from torch import nn\n",
    "from torchvision import transforms, models\n",
    "\n",
    "from utils import FCNResNet101\n",
    "from visualize import show\n",
    "\n",
    "\n",
    "image_path = \"./skin_tone_val/002.jpg\"\n",
    "ckpt_path = \"fcn_resnet101_skin_920a9fbd.pth\"\n",
    "score_threshold = 0.5\n",
    "skin_tone = 0.1\n",
    "mean = torch.tensor((0.485, 0.456, 0.406)).reshape(3, 1, 1)\n",
    "std = torch.tensor((0.229, 0.224, 0.225)).reshape(3, 1, 1)\n",
    "\n",
    "device = torch.device('cuda' if torch.cuda.is_available() else 'cpu')\n",
    "\n",
    "ckpt = torch.load(ckpt_path, map_location=device)\n",
    "model = FCNResNet101(score_threshold)\n",
    "model.load_state_dict(ckpt)\n",
    "model.to(device)\n",
    "model.eval()\n",
    "\n",
    "del ckpt\n",
    "\n",
    "image = Image.open(image_path).convert(\"RGB\")\n",
    "image = transforms.ToTensor()(image)\n",
    "img = (image - mean) / std\n",
    "\n",
    "with torch.no_grad():\n",
    "    img = img.unsqueeze(0).to(device)\n",
    "    res = model(img)\n",
    "\n",
    "target = [{\"masks\": res.squeeze(0).mul(skin_tone)}]\n",
    "show(image, target)\n",
    "\n",
    "print(\"Done!\")"
   ]
  }
 ],
 "metadata": {
  "kernelspec": {
   "display_name": "Python [conda env:pytorch]",
   "language": "python",
   "name": "conda-env-pytorch-py"
  },
  "language_info": {
   "codemirror_mode": {
    "name": "ipython",
    "version": 3
   },
   "file_extension": ".py",
   "mimetype": "text/x-python",
   "name": "python",
   "nbconvert_exporter": "python",
   "pygments_lexer": "ipython3",
   "version": "3.7.6"
  }
 },
 "nbformat": 4,
 "nbformat_minor": 2
}

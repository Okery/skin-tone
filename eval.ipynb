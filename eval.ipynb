{
 "cells": [
  {
   "cell_type": "code",
   "execution_count": null,
   "metadata": {},
   "outputs": [],
   "source": [
    "import os\n",
    "from PIL import Image\n",
    "\n",
    "import torch\n",
    "from torchvision import transforms\n",
    "\n",
    "from utils import SkinDetector, show\n",
    "\n",
    "\n",
    "image_path = \"./skin_tone_val/001.jpg\"\n",
    "ckpt_path = \"weights.pth\"\n",
    "tones = [-0.4, -0.2, 0.0, 0.2, 0.4]\n",
    "\n",
    "score_threshold = 0.5\n",
    "mean = torch.tensor((0.485, 0.456, 0.406)).reshape(3, 1, 1)\n",
    "std = torch.tensor((0.229, 0.224, 0.225)).reshape(3, 1, 1)\n",
    "\n",
    "device = torch.device('cuda' if torch.cuda.is_available() else 'cpu')\n",
    "\n",
    "ckpt = torch.load(ckpt_path, map_location=device)\n",
    "model = SkinDetector(score_threshold)\n",
    "model.load_state_dict(ckpt)\n",
    "model.to(device)\n",
    "model.eval()\n",
    "\n",
    "del ckpt\n",
    "\n",
    "image = Image.open(image_path).convert(\"RGB\")\n",
    "image = transforms.ToTensor()(image)\n",
    "img = (image - mean) / std\n",
    "\n",
    "with torch.no_grad():\n",
    "    img = img.unsqueeze(0).to(device)\n",
    "    mask = model(img).squeeze(0)\n",
    "\n",
    "prefix, ext = os.path.splitext(image_path)\n",
    "\n",
    "for i, t in enumerate(tones):\n",
    "    show(image, mask, t, \"{}_{}{}\".format(prefix, i, ext))\n",
    "    \n",
    "print(\"Done!\")"
   ]
  },
  {
   "cell_type": "code",
   "execution_count": null,
   "metadata": {},
   "outputs": [],
   "source": []
  }
 ],
 "metadata": {
  "kernelspec": {
   "display_name": "Python [conda env:pytorch]",
   "language": "python",
   "name": "conda-env-pytorch-py"
  },
  "language_info": {
   "codemirror_mode": {
    "name": "ipython",
    "version": 3
   },
   "file_extension": ".py",
   "mimetype": "text/x-python",
   "name": "python",
   "nbconvert_exporter": "python",
   "pygments_lexer": "ipython3",
   "version": "3.7.6"
  }
 },
 "nbformat": 4,
 "nbformat_minor": 2
}
